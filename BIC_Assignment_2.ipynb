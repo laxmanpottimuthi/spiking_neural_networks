{
 "cells": [
  {
   "cell_type": "markdown",
   "metadata": {},
   "source": []
  },
  {
   "cell_type": "code",
   "execution_count": 1,
   "metadata": {},
   "outputs": [],
   "source": [
    "import numpy as np\n",
    "import matplotlib.pyplot as plt"
   ]
  },
  {
   "cell_type": "code",
   "execution_count": 2,
   "metadata": {},
   "outputs": [],
   "source": [
    "SPIKE_PROB = 0.8\n",
    "TRAINING_BIAS = 0.01\n",
    "POTENTIAL_DECAY = 0.75\n",
    "CURRENT_DECAY = 0.5\n",
    "INPUT_VALUES=[0,1]"
   ]
  },
  {
   "cell_type": "code",
   "execution_count": 3,
   "metadata": {},
   "outputs": [],
   "source": [
    "\n",
    "# Generates a list representing the input current voltage across total duration in milliseconds where the current begins and runs for the set duration\n",
    "def Input_Current(total_duration, voltage_array, voltage_start_times, voltage_duration):\n",
    "    current_input_array = np.zeros(total_duration)\n",
    "    if not isinstance(voltage_array, list):\n",
    "        voltage_array=[voltage_array]\n",
    "    if not isinstance(voltage_start_times, list):\n",
    "        voltage_start_times=[voltage_start_times]\n",
    "    if len(voltage_array)!=len(voltage_start_times):\n",
    "        raise Exception(\"Unequal lengths for voltage and start times\")\n",
    "    for i in range(len(voltage_array)):\n",
    "        voltage=voltage_array[i]\n",
    "        start_time=voltage_start_times[i]\n",
    "        for j in range(voltage_duration):\n",
    "            current_input_array[start_time+j]=voltage\n",
    "    return current_input_array\n",
    "\n",
    "# Checks to determine if the current voltage has surpassed the voltage threshold\n",
    "def Spike_Occurred(current_voltage,voltage_threshold):\n",
    "    if(current_voltage>voltage_threshold):\n",
    "        return True\n",
    "    else:\n",
    "        return False"
   ]
  },
  {
   "cell_type": "code",
   "execution_count": 4,
   "metadata": {},
   "outputs": [],
   "source": [
    "# # The Neuron Class manages all the parameters and models that are used for testing.  \n",
    "# # The class requires the models are first initialized by giving the model parameters before running\n",
    "# # Then the proper model's membrane potential function can be called for a given input current\n",
    "# # The returned voltage and spiking behavior across the duration of the current will be returned\n",
    "\n",
    "# class Neuron:\n",
    "#     def __init__(self):\n",
    "#         self.LIF_initialilzed = False\n",
    "\n",
    "#     def Initialize_LIF(self,neuron_resting_voltage,neuron_firing_threshold,C_m, R_m):\n",
    "#         self.C_m = C_m\n",
    "#         self.R_m = R_m\n",
    "#         self.resting_voltage=neuron_resting_voltage\n",
    "#         self.voltage_threshold=neuron_firing_threshold\n",
    "#         self.LIF_initialized = True\n",
    "        \n",
    "#     def LIF_Neuron_Voltage_Change(self,I, V_m):\n",
    "#         if self.LIF_initialized:\n",
    "#             voltage_change = ((I*self.R_m) - V_m)/(self.R_m*self.C_m)\n",
    "#             return voltage_change\n",
    "#         else:\n",
    "#             raise Exception('LIF was not initialized')\n",
    "        \n",
    "#     def LIF_Membrane_Potential(self,input_current):\n",
    "#         membrane_potential_array = []\n",
    "#         spike_occurrence_array = []\n",
    "    \n",
    "#         current_voltage = self.resting_voltage\n",
    "    \n",
    "#         for t in range(len(input_current)):\n",
    "#             if Spike_Occurred(current_voltage,self.voltage_threshold):\n",
    "#                 current_voltage = self.resting_voltage\n",
    "#                 spike_occurrence_array.append(1)\n",
    "#             else:\n",
    "#                 voltage_change = self.LIF_Neuron_Voltage_Change(input_current[t],current_voltage)\n",
    "#                 current_voltage=current_voltage+voltage_change\n",
    "#                 spike_occurrence_array.append(0)\n",
    "#             membrane_potential_array.append(current_voltage)\n",
    "        \n",
    "#         return membrane_potential_array,spike_occurrence_array\n",
    "        \n",
    "    "
   ]
  },
  {
   "cell_type": "code",
   "execution_count": 5,
   "metadata": {},
   "outputs": [],
   "source": [
    "# This class takes lists of input currents, membrane potentials, and spikes and plots them.\n",
    "\n",
    "class Spike_Plotter:\n",
    "    def __init__(self):\n",
    "        pass\n",
    "        \n",
    "    def Plot_Spiking_Behavior(self,input_current,membrane_potential,spikes,title):\n",
    "        fig,axes = plt.subplots(3,1,sharex=True)\n",
    "        t = np.arange(len(input_current))\n",
    "        self.Plot_Current(axes[0],t,input_current)\n",
    "        self.Plot_Membrane_Potential(axes[1],t,membrane_potential)\n",
    "        self.Plot_Spikes(axes[2],t,spikes)\n",
    "        axes[0].set_title(title)\n",
    "        plt.show()\n",
    "    \n",
    "    def Plot_Current(self,ax,t,input_current):\n",
    "        ax.plot(t,input_current)\n",
    "        ax.set_ylabel(\"I (mV)\")\n",
    "    \n",
    "    def Plot_Membrane_Potential(self,ax,t,membrane_potential):\n",
    "        ax.plot(t,membrane_potential)\n",
    "        ax.set_ylabel(\"V (mV)\")\n",
    "    \n",
    "    def Plot_Spikes(self,ax,t,spikes):\n",
    "        ax.plot(t,spikes)\n",
    "        ax.set_ylabel(\"Spikes\")\n",
    "        ax.set_xlabel(\"Time (ms)\")\n",
    "\n",
    "\n"
   ]
  },
  {
   "cell_type": "code",
   "execution_count": 6,
   "metadata": {},
   "outputs": [],
   "source": [
    "# The Neuron Class manages all the parameters and models that are used for testing.  \n",
    "# The class requires the models are first initialized by giving the model parameters before running\n",
    "# Then the proper model's membrane potential function can be called for a given input current\n",
    "# The returned voltage and spiking behavior across the duration of the current will be returned\n",
    "\n",
    "POTENTIAL_DECAY = 0.8\n",
    "CURRENT_DECAY = 0.8\n",
    "class Neuron:\n",
    "    def __init__(self):\n",
    "        self.LIF_initialilzed = False\n",
    "\n",
    "    def Initialize_LIF(self,neuron_resting_voltage,neuron_firing_threshold,C_m, R_m):\n",
    "        self.C_m = C_m\n",
    "        self.R_m = R_m\n",
    "        self.resting_voltage=neuron_resting_voltage\n",
    "        self.voltage_threshold=neuron_firing_threshold\n",
    "        self.LIF_initialized = True\n",
    "        \n",
    "    def LIF_Neuron_Voltage_Current_Change(self,t,I, V_m, spike_trains, trained_weights,spike_occurrence_array):\n",
    "        if self.LIF_initialized:\n",
    "            I[t] = CURRENT_DECAY*I[t-1] + np.sum(spike_trains[:,t]*trained_weights)\n",
    "            if V_m[t-1] < self.voltage_threshold:\n",
    "                V_m[t] = POTENTIAL_DECAY*V_m[t-1] + I[t]\n",
    "                spike_occurrence_array[t-1] = 0\n",
    "            else:\n",
    "                V_m[t] = self.resting_voltage\n",
    "                spike_occurrence_array[t-1] = 1\n",
    "\n",
    "            return I, V_m\n",
    "        else:\n",
    "            raise Exception('LIF was not initialized')\n",
    "        \n",
    "    def LIF_Membrane_Potential(self,time, spike_trains, trained_weights):\n",
    "\n",
    "        spike_occurrence_array = np.zeros(time)\n",
    "        current_voltage = self.resting_voltage\n",
    "        V_m = np.zeros(time)\n",
    "        input_current = np.zeros(time)\n",
    "        for t in range(1,time):\n",
    "            input_current,V_m = self.LIF_Neuron_Voltage_Current_Change(t,input_current, \\\n",
    "                                       V_m,spike_trains, trained_weights,spike_occurrence_array)\n",
    "\n",
    "        return input_current, V_m,spike_occurrence_array\n",
    "        \n",
    "    "
   ]
  },
  {
   "cell_type": "code",
   "execution_count": 28,
   "metadata": {},
   "outputs": [],
   "source": [
    "class Data:\n",
    "    def __init__(self, size, num_neurons, gate):\n",
    "        self.spike_train_size = size\n",
    "        self.gate = gate\n",
    "        if len(INPUT_VALUES) == 0 or len(INPUT_VALUES) == 1 or num_neurons == 0 or num_neurons == 1:\n",
    "            raise Exception(\"Input values/number of neurons cannot be 0 or 1\")\n",
    "        elif len(INPUT_VALUES) == num_neurons:\n",
    "            self.num_neurons = num_neurons\n",
    "        else:\n",
    "            raise Exception(\"Input values length and number of neurons should be same\")\n",
    "\n",
    "        \n",
    "    \"\"\"\n",
    "    Based on inputs, get spike probabilities\n",
    "    \"\"\"\n",
    "    def get_spike_prob(self,neuron_input):\n",
    "        if neuron_input == 1:\n",
    "            return 1-SPIKE_PROB, SPIKE_PROB\n",
    "        else:\n",
    "            return SPIKE_PROB,1-SPIKE_PROB\n",
    "    \n",
    "    \"\"\"\n",
    "    Usage of AND/OR/XOR operators on multiple spike trains\n",
    "    \"\"\"\n",
    "    def and_gate(self,spike_trains):\n",
    "        result = np.logical_and(spike_trains[0],spike_trains[1])\n",
    "        for i in range(2, len(spike_trains)):\n",
    "            result = np.logical_and(result, spike_trains[i])\n",
    "        return result    \n",
    "    def or_gate(self,spike_trains):\n",
    "        result = np.logical_and(spike_trains[0],spike_trains[1])\n",
    "        for i in range(2, len(spike_trains)):\n",
    "            result = np.logical_or(result, spike_trains[i])\n",
    "        return result\n",
    "    def xor_gate(self,spike_trains):\n",
    "        result = np.logical_and(spike_trains[0],spike_trains[1])\n",
    "        for i in range(2, len(spike_trains)):\n",
    "            result = np.logical_xor(result, spike_trains[i])\n",
    "        return result\n",
    "    \n",
    "    \"\"\"\n",
    "    Generate spike trains\n",
    "    \"\"\"\n",
    "    def encode(self,neurons):\n",
    "        #Need to change this to someother distribution\n",
    "        spike_trains = []\n",
    "        for neuron_value in neurons:\n",
    "            prob_dist = self.get_spike_prob(neuron_value)\n",
    "            spike_trains.append(np.random.choice(INPUT_VALUES, self.spike_train_size,p=prob_dist))\n",
    "        self.spike_trains = np.asarray(spike_trains)\n",
    "        return self.spike_trains\n",
    "    \n",
    "    \"\"\"\n",
    "    Generate teacher neuron based on input gate and spike trains\n",
    "    \"\"\"\n",
    "    def teacher_neuron(self):\n",
    "        spike_trains = self.spike_trains\n",
    "        gate = self.gate\n",
    "        if gate == \"AND\":\n",
    "            self.teacher = self.and_gate(spike_trains)\n",
    "        if gate == \"OR\":\n",
    "            self.teacher = self.or_gate(spike_trains)\n",
    "        if gate == \"XOR\":\n",
    "            self.teacher = self.xor_gate(spike_trains)\n",
    "        return self.teacher.astype(int)\n",
    "    \n",
    "    \"\"\"\n",
    "    Generate input, encoded data of data size - data_size\n",
    "    \"\"\"\n",
    "    def generate_data(self,data_size):\n",
    "        \n",
    "        generated_data = []\n",
    "        neurons_input = [] \n",
    "        for _ in range(self.num_neurons):\n",
    "            neurons_input.append(np.random.choice([0,1],data_size))\n",
    "        neurons_input = np.asarray(neurons_input).T\n",
    "\n",
    "        for each_neuron_set in neurons_input:\n",
    "            generated_data.append((each_neuron_set, self.encode(each_neuron_set), self.teacher_neuron()))\n",
    "            \n",
    "        return generated_data\n",
    "\n",
    "\n",
    "class Train:\n",
    "    def __init__(self,spike_train,teacher):\n",
    "        self.bias = TRAINING_BIAS\n",
    "        self.teacher = teacher\n",
    "        self.spike_trains = spike_train\n",
    "        self.len_spike_train = len(spike_train)\n",
    "        self.weigths = np.random.normal(0,0.1,self.len_spike_train)\n",
    "    \n",
    "    def get_a_corr(self,spike_train, teacher):\n",
    "        #This needs to be changed\n",
    "        return np.logical_and(spike_train,teacher).astype(int)\n",
    "        \n",
    "    \n",
    "    def fit(self):\n",
    "        for i,spike_train in enumerate(self.spike_trains):\n",
    "            for j,(n,t) in enumerate(zip(spike_train,teacher)):\n",
    "                a_corr = self.get_a_corr(spike_train, teacher)\n",
    "\n",
    "                dw = a_corr[j]*n*t #- TRAINING_BIAS\n",
    "                self.weigths[i] = abs(self.weigths[i] + dw -1)\n",
    "        return self.weigths\n",
    "        \n",
    "        "
   ]
  },
  {
   "cell_type": "code",
   "execution_count": 8,
   "metadata": {},
   "outputs": [],
   "source": [
    "def get_accuracy(teacher,output):\n",
    "    if sum(teacher) == 0:\n",
    "        return 0\n",
    "    return sum(output)/sum(teacher)"
   ]
  },
  {
   "cell_type": "code",
   "execution_count": null,
   "metadata": {},
   "outputs": [],
   "source": []
  },
  {
   "cell_type": "code",
   "execution_count": 30,
   "metadata": {},
   "outputs": [
    {
     "data": {
      "image/png": "[encoded data removed]",
      "text/plain": [
       "<Figure size 432x288 with 3 Axes>"
      ]
     },
     "metadata": {
      "needs_background": "light"
     },
     "output_type": "display_data"
    },
    {
     "name": "stdout",
     "output_type": "stream",
     "text": [
      "Accuracy for neurons set:  [0 0] is  9.0\n",
      "Mean accuracy is 9.0\n"
     ]
    }
   ],
   "source": [
    "#LIP Parameters\n",
    "neuron_resting_voltage=0\n",
    "neuron_firing_threshold=0.5\n",
    "C_m=2\n",
    "R_m=1.5\n",
    "\n",
    "\n",
    "\n",
    "neuron=Neuron()\n",
    "neuron.Initialize_LIF(neuron_resting_voltage,neuron_firing_threshold,C_m,R_m)\n",
    "plotter = Spike_Plotter()\n",
    "\n",
    "\n",
    "time = 20\n",
    "data = Data(time,2,\"AND\")\n",
    "generated_data = data.generate_data(1)\n",
    "\n",
    "accuracy_list = []\n",
    "for (neuron_input, spike_train, teacher) in generated_data:\n",
    "    train_model = Train(spike_train,teacher)\n",
    "    trained_weights = train_model.fit()\n",
    "    input_current, membrane_potential,spike_occurrence = neuron.LIF_Membrane_Potential(time,spike_train,trained_weights)\n",
    "    plotter.Plot_Spiking_Behavior(input_current,membrane_potential,spike_occurrence,\"LIF Neuron\")\n",
    "    accuracy = get_accuracy(teacher,spike_occurrence)\n",
    "    print(\"Accuracy for neurons set: \", neuron_input, \"is \", accuracy)\n",
    "    accuracy_list.append(accuracy)\n",
    "\n",
    "print(\"Mean accuracy is\",np.mean(accuracy_list))\n"
   ]
  },
  {
   "cell_type": "code",
   "execution_count": 10,
   "metadata": {},
   "outputs": [
    {
     "data": {
      "text/plain": [
       "4"
      ]
     },
     "execution_count": 10,
     "metadata": {},
     "output_type": "execute_result"
    }
   ],
   "source": [
    "sum(np.logical_and(spike_train[0],spike_train[1]))"
   ]
  },
  {
   "cell_type": "code",
   "execution_count": 11,
   "metadata": {},
   "outputs": [
    {
     "data": {
      "text/plain": [
       "5.0"
      ]
     },
     "execution_count": 11,
     "metadata": {},
     "output_type": "execute_result"
    }
   ],
   "source": [
    "sum(spike_occurrence)"
   ]
  },
  {
   "cell_type": "code",
   "execution_count": 27,
   "metadata": {},
   "outputs": [
    {
     "data": {
      "text/plain": [
       "array([0.98486536, 0.89401579])"
      ]
     },
     "execution_count": 27,
     "metadata": {},
     "output_type": "execute_result"
    }
   ],
   "source": [
    "trained_weights"
   ]
  },
  {
   "cell_type": "code",
   "execution_count": null,
   "metadata": {},
   "outputs": [],
   "source": []
  },
  {
   "cell_type": "code",
   "execution_count": null,
   "metadata": {},
   "outputs": [],
   "source": []
  },
  {
   "cell_type": "code",
   "execution_count": null,
   "metadata": {},
   "outputs": [],
   "source": []
  },
  {
   "cell_type": "code",
   "execution_count": 13,
   "metadata": {},
   "outputs": [],
   "source": [
    "# #Testingbed\n",
    "# data = Data(10,2,\"AND\")\n",
    "# spike_train, teacher = data.generate_data()\n",
    "# # teacher = data.teacher_neuron()\n",
    "\n",
    "# train = Train(spike_train,teacher)\n",
    "# weights = train.fit()\n",
    "# print(spike_train[0])\n",
    "# print(spike_train[1])\n",
    "# print(teacher)\n",
    "# print(weights)\n"
   ]
  }
 ],
 "metadata": {
  "kernelspec": {
   "display_name": "Python 3",
   "language": "python",
   "name": "python3"
  },
  "language_info": {
   "codemirror_mode": {
    "name": "ipython",
    "version": 3
   },
   "file_extension": ".py",
   "mimetype": "text/x-python",
   "name": "python",
   "nbconvert_exporter": "python",
   "pygments_lexer": "ipython3",
   "version": "3.8.5"
  }
 },
 "nbformat": 4,
 "nbformat_minor": 2
}
