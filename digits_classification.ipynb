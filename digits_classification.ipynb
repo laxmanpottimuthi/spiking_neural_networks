{
 "cells": [
  {
   "cell_type": "code",
   "execution_count": 1,
   "metadata": {},
   "outputs": [],
   "source": [
    "import matplotlib.pyplot as plt\n",
    "import numpy as np\n",
    "import sklearn\n",
    "from sklearn.model_selection import train_test_split\n",
    "\n",
    "from sklearn.datasets import load_digits\n"
   ]
  },
  {
   "cell_type": "code",
   "execution_count": 2,
   "metadata": {},
   "outputs": [],
   "source": [
    "train_ratio = 0.75\n",
    "validation_ratio = 0.15\n",
    "test_ratio = 0.10"
   ]
  },
  {
   "cell_type": "code",
   "execution_count": 3,
   "metadata": {},
   "outputs": [],
   "source": [
    "\n",
    "def generate_data(train_ratio, validation_ratio,test_ratio):\n",
    "    digits,values  = load_digits()['images'],load_digits()['target']\n",
    "    train_data,test_data,train_values,test_values = train_test_split(digits,values,test_size=1-train_ratio)\n",
    "    \n",
    "    test_data,validation_data,test_values,validation_values = \\\n",
    "                        train_test_split(test_data,test_values, test_size = test_ratio/(test_ratio+validation_ratio))\n",
    "#     train_data = np.concatenate(train_data).ravel()\n",
    "#     test_data = np.concatenate(test_data).ravel()\n",
    "#     validation_data = np.concatenate(validation_data).ravel()\n",
    "    return (train_data,train_values), (test_data,test_values), (validation_data,validation_values)\n",
    "\n",
    "    "
   ]
  },
  {
   "cell_type": "code",
   "execution_count": 4,
   "metadata": {},
   "outputs": [],
   "source": [
    "(train_data,train_values),(test_data,test_values),(validation_data,validation_values) = generate_data(train_ratio, validation_ratio,test_ratio)"
   ]
  },
  {
   "cell_type": "code",
   "execution_count": null,
   "metadata": {},
   "outputs": [],
   "source": []
  },
  {
   "cell_type": "code",
   "execution_count": 30,
   "metadata": {},
   "outputs": [],
   "source": [
    "class Digit_Data:\n",
    "    def __init__(self,spikes_per_second,T):\n",
    "        self.train_ratio = 0.75\n",
    "        self.validation_ratio = 0.15\n",
    "        self.test_ratio = 0.10\n",
    "        self.threshold_intensity = 0.035\n",
    "        self.spikes_rate=spikes_per_second\n",
    "        self.T=T\n",
    "        self.output_intensity = 1\n",
    "        \n",
    "    def generate_data(self):\n",
    "        digits,values  = load_digits()['images'],load_digits()['target']\n",
    "        train_data,test_data,train_values,test_values = train_test_split(digits,values,test_size=1-self.train_ratio)\n",
    "        test_data,validation_data,test_values,validation_values = \\\n",
    "                        train_test_split(test_data,test_values, test_size = self.test_ratio/(self.test_ratio+self.validation_ratio))\n",
    "        return (train_data,train_values), (test_data,test_values), (validation_data,validation_values)\n",
    "    \n",
    "    def get_spike_train(self,data_value):\n",
    "        if data_value==1:\n",
    "            multiplier=9\n",
    "        elif data_value==0:\n",
    "            multiplier=1\n",
    "        rate = float(multiplier*self.spikes_rate) / self.T\n",
    "        spike_trains=np.random.binomial(size=self.T,n=1,p=rate)\n",
    "        return spike_trains\n",
    "    \n",
    "    def Decode(self,spike_train):\n",
    "        spike_count = np.sum(spike_train)\n",
    "        spike_rate = float(spike_count)/self.T\n",
    "        value = float(spike_rate) * self.spikes_rate\n",
    "        return spike_count\n",
    "    \n",
    "    def encode(self,data,output):\n",
    "        data = np.concatenate(data).ravel()\n",
    "        data = data / np.sum(data)\n",
    "\n",
    "        for j in range(len(data)):\n",
    "            if data[j] >= self.threshold_intensity:\n",
    "                data[j] = 1\n",
    "            else:\n",
    "                data[j] = 0\n",
    "        new_data = []\n",
    "        for j in range(len(data)):\n",
    "            new_data.append(self.get_spike_train(data[j]))\n",
    "        y = []\n",
    "        for i in range(10):\n",
    "            if i == output:\n",
    "                y.append(self.get_spike_train(1))\n",
    "            else:\n",
    "                y.append(self.get_spike_train(0))\n",
    "        \n",
    "        return np.asarray(new_data), y"
   ]
  },
  {
   "cell_type": "code",
   "execution_count": 31,
   "metadata": {},
   "outputs": [],
   "source": [
    "spikes_per_second=100\n",
    "T=1000\n",
    "\n",
    "data = Digit_Data(spikes_per_second,T)\n",
    "(tr,trv),(t,tv),(v,vv) = data.generate_data()"
   ]
  },
  {
   "cell_type": "code",
   "execution_count": null,
   "metadata": {},
   "outputs": [],
   "source": []
  },
  {
   "cell_type": "code",
   "execution_count": 32,
   "metadata": {},
   "outputs": [],
   "source": [
    "a,b = data.encode(tr[0],trv[0])"
   ]
  },
  {
   "cell_type": "code",
   "execution_count": 35,
   "metadata": {},
   "outputs": [
    {
     "data": {
      "text/plain": [
       "1000"
      ]
     },
     "execution_count": 35,
     "metadata": {},
     "output_type": "execute_result"
    }
   ],
   "source": [
    "def plot_accuracies(self, accuracies):\n",
    "    plt.title('Accuracy plot on validation data by iteration')\n",
    "    plt.ylabel('Accuracy')\n",
    "    plt.xlabel('Iteration')\n",
    "    plt.plot(range(len(accuracies)), accuracies)\n",
    "    plt.show()"
   ]
  },
  {
   "cell_type": "code",
   "execution_count": null,
   "metadata": {},
   "outputs": [],
   "source": []
  }
 ],
 "metadata": {
  "kernelspec": {
   "display_name": "Python 3",
   "language": "python",
   "name": "python3"
  },
  "language_info": {
   "codemirror_mode": {
    "name": "ipython",
    "version": 3
   },
   "file_extension": ".py",
   "mimetype": "text/x-python",
   "name": "python",
   "nbconvert_exporter": "python",
   "pygments_lexer": "ipython3",
   "version": "3.7.2"
  }
 },
 "nbformat": 4,
 "nbformat_minor": 4
}
