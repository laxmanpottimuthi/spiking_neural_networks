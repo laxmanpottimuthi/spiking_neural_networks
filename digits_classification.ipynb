{
 "cells": [
  {
   "cell_type": "code",
   "execution_count": 9,
   "metadata": {},
   "outputs": [],
   "source": [
    "import matplotlib.pyplot as plt\n",
    "import numpy as np\n",
    "import sklearn\n",
    "from sklearn.model_selection import train_test_split\n",
    "\n",
    "from sklearn.datasets import load_digits\n"
   ]
  },
  {
   "cell_type": "code",
   "execution_count": 10,
   "metadata": {},
   "outputs": [],
   "source": [
    "train_ratio = 0.75\n",
    "validation_ratio = 0.15\n",
    "test_ratio = 0.10"
   ]
  },
  {
   "cell_type": "code",
   "execution_count": 11,
   "metadata": {},
   "outputs": [],
   "source": [
    "\n",
    "def generate_data(train_ratio, validation_ratio,test_ratio):\n",
    "    digits,values  = load_digits()['images'],load_digits()['target']\n",
    "    train_data,test_data,train_values,test_values = train_test_split(digits,values,test_size=1-train_ratio)\n",
    "    \n",
    "    test_data,validation_data,test_values,validation_values = \\\n",
    "                        train_test_split(test_data,test_values, test_size = test_ratio/(test_ratio+validation_ratio))\n",
    "    train_data = np.concatenate(train_data).ravel()\n",
    "    test_data = np.concatenate(test_data).ravel()\n",
    "    validation_data = np.concatenate(validation_data).ravel()\n",
    "    return (train_data,train_values), (test_data,test_values), (validation_data,validation_values)\n",
    "\n",
    "    "
   ]
  },
  {
   "cell_type": "code",
   "execution_count": 12,
   "metadata": {},
   "outputs": [],
   "source": [
    "(train_data,train_values),(test_data,test_values),(validation_data,validation_values) = generate_data(train_ratio, validation_ratio,test_ratio)"
   ]
  },
  {
   "cell_type": "code",
   "execution_count": 13,
   "metadata": {},
   "outputs": [],
   "source": [
    "def encode(data):\n",
    "    if len(data) == 8:\n",
    "        return data/np.sum(data)\n",
    "    for i in range(len(data)):\n",
    "        data[i] = data[i]/np.sum(data[i])\n",
    "    return data"
   ]
  },
  {
   "cell_type": "code",
   "execution_count": null,
   "metadata": {},
   "outputs": [],
   "source": []
  },
  {
   "cell_type": "code",
   "execution_count": null,
   "metadata": {},
   "outputs": [],
   "source": []
  },
  {
   "cell_type": "code",
   "execution_count": null,
   "metadata": {},
   "outputs": [],
   "source": []
  },
  {
   "cell_type": "code",
   "execution_count": null,
   "metadata": {},
   "outputs": [],
   "source": []
  }
 ],
 "metadata": {
  "kernelspec": {
   "display_name": "Python 3",
   "language": "python",
   "name": "python3"
  },
  "language_info": {
   "codemirror_mode": {
    "name": "ipython",
    "version": 3
   },
   "file_extension": ".py",
   "mimetype": "text/x-python",
   "name": "python",
   "nbconvert_exporter": "python",
   "pygments_lexer": "ipython3",
   "version": "3.7.2"
  }
 },
 "nbformat": 4,
 "nbformat_minor": 4
}
