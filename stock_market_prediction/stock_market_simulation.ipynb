{
 "cells": [
  {
   "cell_type": "code",
   "execution_count": 1,
   "metadata": {},
   "outputs": [],
   "source": [
    "import numpy as np\n",
    "import pandas as pd\n",
    "import matplotlib.pyplot as plt"
   ]
  },
  {
   "cell_type": "code",
   "execution_count": null,
   "metadata": {},
   "outputs": [],
   "source": []
  },
  {
   "cell_type": "code",
   "execution_count": 30,
   "metadata": {},
   "outputs": [
    {
     "name": "stdout",
     "output_type": "stream",
     "text": [
      "pdf of given data\n",
      "          Date     Open     High      Low    Close    Volume  OpenInt\n",
      "0  1984-09-07  0.42388  0.42902  0.41874  0.42388  23220030        0\n",
      "1  1984-09-10  0.42388  0.42516  0.41366  0.42134  18022532        0\n",
      "2  1984-09-11  0.42516  0.43668  0.42516  0.42902  42498199        0\n",
      "3  1984-09-12  0.42902  0.43157  0.41618  0.41618  37125801        0\n",
      "4  1984-09-13  0.43927  0.44052  0.43927  0.43927  57822062        0\n",
      "\n",
      "Number of empty columns:\n",
      " Date       0\n",
      "Open       0\n",
      "High       0\n",
      "Low        0\n",
      "Close      0\n",
      "Volume     0\n",
      "OpenInt    0\n",
      "dtype: int64\n"
     ]
    }
   ],
   "source": [
    "STOCK_NAME = 'aapl'\n",
    "stock_file = 'data/'+STOCK_NAME+'.us.csv'\n",
    "def get_stock_data(file):\n",
    "    df = pd.read_csv(stock_file,sep=\",\")\n",
    "    print(\"pdf of given data\\n\", df.head())\n",
    "    print(\"\\nNumber of empty columns:\\n\", df.isna().sum())\n",
    "    return df[\"Close\"].to_numpy()[7000:]\n",
    "data = get_stock_data(stock_file)"
   ]
  },
  {
   "cell_type": "code",
   "execution_count": 31,
   "metadata": {},
   "outputs": [
    {
     "data": {
      "image/png": "[encoded data removed]",
      "text/plain": [
       "<Figure size 432x288 with 1 Axes>"
      ]
     },
     "metadata": {
      "needs_background": "light"
     },
     "output_type": "display_data"
    }
   ],
   "source": [
    "\n",
    "plt.plot(data)\n",
    "plt.show()"
   ]
  },
  {
   "cell_type": "code",
   "execution_count": null,
   "metadata": {},
   "outputs": [],
   "source": []
  },
  {
   "cell_type": "code",
   "execution_count": 4,
   "metadata": {},
   "outputs": [],
   "source": [
    "# close_org = df[\"Close\"].to_numpy()\n",
    "# for i in range(len(close)):\n",
    "#     print(close[i])"
   ]
  },
  {
   "cell_type": "code",
   "execution_count": 40,
   "metadata": {},
   "outputs": [],
   "source": [
    "\n",
    "def scale_data(data):\n",
    "    from sklearn.preprocessing import MinMaxScaler\n",
    "    \n",
    "    scalerObject = MinMaxScaler()\n",
    "    data_norm = scaler.fit_transform(pd.DataFrame(data))\n",
    "    data_norm[data_norm==0] = 1\n",
    "    return data_norm*100\n",
    "\n",
    "data_norm = scale_data(data)\n",
    "\n"
   ]
  },
  {
   "cell_type": "code",
   "execution_count": 39,
   "metadata": {},
   "outputs": [
    {
     "data": {
      "text/plain": [
       "array([0.15777545])"
      ]
     },
     "execution_count": 39,
     "metadata": {},
     "output_type": "execute_result"
    }
   ],
   "source": []
  },
  {
   "cell_type": "code",
   "execution_count": 5,
   "metadata": {},
   "outputs": [
    {
     "data": {
      "text/plain": [
       "1111"
      ]
     },
     "execution_count": 5,
     "metadata": {},
     "output_type": "execute_result"
    }
   ],
   "source": [
    "def encode_stock_price(price):\n",
    "    price = int(price)\n",
    "    return int(bin(price ^ (price >> 1))[2:])\n",
    "\n",
    "encode_stock_price(10)\n",
    "    "
   ]
  }
 ],
 "metadata": {
  "kernelspec": {
   "display_name": "Python 3",
   "language": "python",
   "name": "python3"
  },
  "language_info": {
   "codemirror_mode": {
    "name": "ipython",
    "version": 3
   },
   "file_extension": ".py",
   "mimetype": "text/x-python",
   "name": "python",
   "nbconvert_exporter": "python",
   "pygments_lexer": "ipython3",
   "version": "3.8.5"
  }
 },
 "nbformat": 4,
 "nbformat_minor": 4
}
